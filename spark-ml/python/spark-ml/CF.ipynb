{
 "cells": [
  {
   "cell_type": "code",
   "execution_count": 1,
   "outputs": [
    {
     "data": {
      "text/plain": "       itemA  itemB  itemC  itemD  itemE\nuser1      5      3      4      4    NaN\nuser2      3      1      2      3    3.0\nuser3      4      3      4      3    5.0\nuser4      3      3      1      5    4.0\nuser5      1      5      5      2    1.0",
      "text/html": "<div>\n<style scoped>\n    .dataframe tbody tr th:only-of-type {\n        vertical-align: middle;\n    }\n\n    .dataframe tbody tr th {\n        vertical-align: top;\n    }\n\n    .dataframe thead th {\n        text-align: right;\n    }\n</style>\n<table border=\"1\" class=\"dataframe\">\n  <thead>\n    <tr style=\"text-align: right;\">\n      <th></th>\n      <th>itemA</th>\n      <th>itemB</th>\n      <th>itemC</th>\n      <th>itemD</th>\n      <th>itemE</th>\n    </tr>\n  </thead>\n  <tbody>\n    <tr>\n      <th>user1</th>\n      <td>5</td>\n      <td>3</td>\n      <td>4</td>\n      <td>4</td>\n      <td>NaN</td>\n    </tr>\n    <tr>\n      <th>user2</th>\n      <td>3</td>\n      <td>1</td>\n      <td>2</td>\n      <td>3</td>\n      <td>3.0</td>\n    </tr>\n    <tr>\n      <th>user3</th>\n      <td>4</td>\n      <td>3</td>\n      <td>4</td>\n      <td>3</td>\n      <td>5.0</td>\n    </tr>\n    <tr>\n      <th>user4</th>\n      <td>3</td>\n      <td>3</td>\n      <td>1</td>\n      <td>5</td>\n      <td>4.0</td>\n    </tr>\n    <tr>\n      <th>user5</th>\n      <td>1</td>\n      <td>5</td>\n      <td>5</td>\n      <td>2</td>\n      <td>1.0</td>\n    </tr>\n  </tbody>\n</table>\n</div>"
     },
     "execution_count": 1,
     "metadata": {},
     "output_type": "execute_result"
    }
   ],
   "source": [
    "import pandas as pd\n",
    "\n",
    "# 准备矩阵数据\n",
    "users = [\"user1\", \"user2\", \"user3\", \"user4\", \"user5\"]\n",
    "items = [\"itemA\", \"itemB\", \"itemC\", \"itemD\", \"itemE\"]\n",
    "# 显性数据 0未购买，1已经购买\n",
    "# 稠密矩阵\n",
    "# 目的是补全【user1】对【itemE】的评分\n",
    "data_set = [\n",
    "    [5, 3, 4, 4, None],\n",
    "    [3, 1, 2, 3, 3],\n",
    "    [4, 3, 4, 3, 5],\n",
    "    [3, 3, 1, 5, 4],\n",
    "    [1, 5, 5, 2, 1]\n",
    "]\n",
    "df = pd.DataFrame(data_set, columns=items, index=users)\n",
    "df"
   ],
   "metadata": {
    "collapsed": false,
    "pycharm": {
     "name": "#%%\n"
    }
   }
  },
  {
   "cell_type": "markdown",
   "source": [
    "# 皮尔逊相似度\n",
    ">对余弦相似度的优化，增加了长度相关\n",
    "$$\n",
    "r(A,B) = \\frac {\\sum\\limits_{i=1}^n(A_i-\\overline{A})\\times (B_i-\\overline{B})}{\\sqrt{\\sum\\limits_{i=1}^n(A_i-\\overline{A})^2} \\times \\sqrt{\\sum\\limits_{i=1}^n(B_i-\\overline{B})^2 }}\n",
    "$$\n"
   ],
   "metadata": {
    "collapsed": false,
    "pycharm": {
     "name": "#%% md\n"
    }
   }
  },
  {
   "cell_type": "code",
   "execution_count": 2,
   "outputs": [
    {
     "data": {
      "text/plain": "          user1     user2     user3     user4     user5\nuser1  1.000000  0.852803  0.707107  0.000000 -0.792118\nuser2  0.852803  1.000000  0.467707  0.489956 -0.900149\nuser3  0.707107  0.467707  1.000000 -0.161165 -0.466569\nuser4  0.000000  0.489956 -0.161165  1.000000 -0.641503\nuser5 -0.792118 -0.900149 -0.466569 -0.641503  1.000000",
      "text/html": "<div>\n<style scoped>\n    .dataframe tbody tr th:only-of-type {\n        vertical-align: middle;\n    }\n\n    .dataframe tbody tr th {\n        vertical-align: top;\n    }\n\n    .dataframe thead th {\n        text-align: right;\n    }\n</style>\n<table border=\"1\" class=\"dataframe\">\n  <thead>\n    <tr style=\"text-align: right;\">\n      <th></th>\n      <th>user1</th>\n      <th>user2</th>\n      <th>user3</th>\n      <th>user4</th>\n      <th>user5</th>\n    </tr>\n  </thead>\n  <tbody>\n    <tr>\n      <th>user1</th>\n      <td>1.000000</td>\n      <td>0.852803</td>\n      <td>0.707107</td>\n      <td>0.000000</td>\n      <td>-0.792118</td>\n    </tr>\n    <tr>\n      <th>user2</th>\n      <td>0.852803</td>\n      <td>1.000000</td>\n      <td>0.467707</td>\n      <td>0.489956</td>\n      <td>-0.900149</td>\n    </tr>\n    <tr>\n      <th>user3</th>\n      <td>0.707107</td>\n      <td>0.467707</td>\n      <td>1.000000</td>\n      <td>-0.161165</td>\n      <td>-0.466569</td>\n    </tr>\n    <tr>\n      <th>user4</th>\n      <td>0.000000</td>\n      <td>0.489956</td>\n      <td>-0.161165</td>\n      <td>1.000000</td>\n      <td>-0.641503</td>\n    </tr>\n    <tr>\n      <th>user5</th>\n      <td>-0.792118</td>\n      <td>-0.900149</td>\n      <td>-0.466569</td>\n      <td>-0.641503</td>\n      <td>1.000000</td>\n    </tr>\n  </tbody>\n</table>\n</div>"
     },
     "execution_count": 2,
     "metadata": {},
     "output_type": "execute_result"
    }
   ],
   "source": [
    "# 获取用户的皮尔逊相似度\n",
    "user_similar = df.T.corr()\n",
    "user_similar"
   ],
   "metadata": {
    "collapsed": false,
    "pycharm": {
     "name": "#%%\n"
    }
   }
  },
  {
   "cell_type": "markdown",
   "source": [
    "## 基于用户的相似度预测\n",
    "> 就是*相似用户*对*同一内容*评分的*加权平均数*\n",
    "- U 用户集合 = users\n",
    "- u 用户 = user1\n",
    "- i 内容 = itemE\n",
    "- $r_{ui}$ 用户u对内容i的评分\n",
    "- $sim (u,v)$ 用户u，v相似 =user2,user3\n",
    "- $v \\in U$ U中的用户v\n",
    "$$\n",
    "pred(u,i) =\\hat{r}_{ui}= \\frac {\\sum\\limits_{v \\in U} sim(u,v) \\times r_{vi}} {\\sum\\limits_{v \\in U}|sim(u,v)|}\n",
    "$$\n",
    "$$\n",
    "r_{1E} = \\frac {0.85 \\times 3.0 + 0.71 \\times 5.0} {0.85+0.71} = 3.91\n",
    "$$"
   ],
   "metadata": {
    "collapsed": false,
    "pycharm": {
     "name": "#%% md\n"
    }
   }
  },
  {
   "cell_type": "code",
   "execution_count": 3,
   "outputs": [
    {
     "data": {
      "text/plain": "          itemA     itemB     itemC     itemD     itemE\nitemA  1.000000 -0.476731 -0.123091  0.532181  0.969458\nitemB -0.476731  1.000000  0.645497 -0.310087 -0.478091\nitemC -0.123091  0.645497  1.000000 -0.720577 -0.427618\nitemD  0.532181 -0.310087 -0.720577  1.000000  0.581675\nitemE  0.969458 -0.478091 -0.427618  0.581675  1.000000",
      "text/html": "<div>\n<style scoped>\n    .dataframe tbody tr th:only-of-type {\n        vertical-align: middle;\n    }\n\n    .dataframe tbody tr th {\n        vertical-align: top;\n    }\n\n    .dataframe thead th {\n        text-align: right;\n    }\n</style>\n<table border=\"1\" class=\"dataframe\">\n  <thead>\n    <tr style=\"text-align: right;\">\n      <th></th>\n      <th>itemA</th>\n      <th>itemB</th>\n      <th>itemC</th>\n      <th>itemD</th>\n      <th>itemE</th>\n    </tr>\n  </thead>\n  <tbody>\n    <tr>\n      <th>itemA</th>\n      <td>1.000000</td>\n      <td>-0.476731</td>\n      <td>-0.123091</td>\n      <td>0.532181</td>\n      <td>0.969458</td>\n    </tr>\n    <tr>\n      <th>itemB</th>\n      <td>-0.476731</td>\n      <td>1.000000</td>\n      <td>0.645497</td>\n      <td>-0.310087</td>\n      <td>-0.478091</td>\n    </tr>\n    <tr>\n      <th>itemC</th>\n      <td>-0.123091</td>\n      <td>0.645497</td>\n      <td>1.000000</td>\n      <td>-0.720577</td>\n      <td>-0.427618</td>\n    </tr>\n    <tr>\n      <th>itemD</th>\n      <td>0.532181</td>\n      <td>-0.310087</td>\n      <td>-0.720577</td>\n      <td>1.000000</td>\n      <td>0.581675</td>\n    </tr>\n    <tr>\n      <th>itemE</th>\n      <td>0.969458</td>\n      <td>-0.478091</td>\n      <td>-0.427618</td>\n      <td>0.581675</td>\n      <td>1.000000</td>\n    </tr>\n  </tbody>\n</table>\n</div>"
     },
     "execution_count": 3,
     "metadata": {},
     "output_type": "execute_result"
    }
   ],
   "source": [
    "# 内容的相似度矩阵\n",
    "item_similar = df.corr()\n",
    "item_similar"
   ],
   "metadata": {
    "collapsed": false,
    "pycharm": {
     "name": "#%%\n"
    }
   }
  },
  {
   "cell_type": "markdown",
   "source": [
    "# 基于内容的相似度预测\n",
    "> 和基于用户的类似\n",
    "> *相似物品*从*同一用户*评分的*加权平均数*\n",
    "$$\n",
    "r_{1E} = \\frac {0.97 \\times 5.0 + 0.58 \\times 4.0} {0.85+0.97} = 4.63\n",
    "$$"
   ],
   "metadata": {
    "collapsed": false,
    "pycharm": {
     "name": "#%% md\n"
    }
   }
  },
  {
   "cell_type": "code",
   "execution_count": 4,
   "outputs": [
    {
     "data": {
      "text/plain": "       itemA  itemB  itemC  itemD  itemE\nuser1    5.0    3.0    4.0    NaN    NaN\nuser2    NaN    NaN    NaN    3.0    3.0\nuser3    4.0    3.0    4.0    NaN    5.0\nuser4    NaN    3.0    NaN    5.0    NaN\nuser5    1.0    5.0    5.0    2.0    1.0",
      "text/html": "<div>\n<style scoped>\n    .dataframe tbody tr th:only-of-type {\n        vertical-align: middle;\n    }\n\n    .dataframe tbody tr th {\n        vertical-align: top;\n    }\n\n    .dataframe thead th {\n        text-align: right;\n    }\n</style>\n<table border=\"1\" class=\"dataframe\">\n  <thead>\n    <tr style=\"text-align: right;\">\n      <th></th>\n      <th>itemA</th>\n      <th>itemB</th>\n      <th>itemC</th>\n      <th>itemD</th>\n      <th>itemE</th>\n    </tr>\n  </thead>\n  <tbody>\n    <tr>\n      <th>user1</th>\n      <td>5.0</td>\n      <td>3.0</td>\n      <td>4.0</td>\n      <td>NaN</td>\n      <td>NaN</td>\n    </tr>\n    <tr>\n      <th>user2</th>\n      <td>NaN</td>\n      <td>NaN</td>\n      <td>NaN</td>\n      <td>3.0</td>\n      <td>3.0</td>\n    </tr>\n    <tr>\n      <th>user3</th>\n      <td>4.0</td>\n      <td>3.0</td>\n      <td>4.0</td>\n      <td>NaN</td>\n      <td>5.0</td>\n    </tr>\n    <tr>\n      <th>user4</th>\n      <td>NaN</td>\n      <td>3.0</td>\n      <td>NaN</td>\n      <td>5.0</td>\n      <td>NaN</td>\n    </tr>\n    <tr>\n      <th>user5</th>\n      <td>1.0</td>\n      <td>5.0</td>\n      <td>5.0</td>\n      <td>2.0</td>\n      <td>1.0</td>\n    </tr>\n  </tbody>\n</table>\n</div>"
     },
     "execution_count": 4,
     "metadata": {},
     "output_type": "execute_result"
    }
   ],
   "source": [
    "# 稀疏矩阵\n",
    "data_set_sparse = [\n",
    "    [5, 3, 4, None, None],\n",
    "    [None, None, None, 3, 3],\n",
    "    [4, 3, 4, None, 5],\n",
    "    [None, 3, None, 5, None],\n",
    "    [1, 5, 5, 2, 1]\n",
    "]\n",
    "df_sparse = pd.DataFrame(data_set_sparse, columns=items, index=users)\n",
    "df_sparse"
   ],
   "metadata": {
    "collapsed": false,
    "pycharm": {
     "name": "#%%\n"
    }
   }
  },
  {
   "cell_type": "markdown",
   "source": [
    "# 基于模型的预测\n",
    "> 适用于稀疏矩阵\n",
    "## 图模型\n",
    "1. 构建二分图\n",
    "![1610347747599](../../.assets/graph1.png)\n",
    "2.根据两个顶点之间的*路径数*、*路径长度*、*经过的定点数* 来评价两个顶点的相关性\n",
    "## 矩阵分解\n",
    "> ALS 算法 [详情](../../ML.md)"
   ],
   "metadata": {
    "collapsed": false,
    "pycharm": {
     "name": "#%% md\n"
    }
   }
  }
 ],
 "metadata": {
  "kernelspec": {
   "display_name": "Python 3",
   "language": "python",
   "name": "python3"
  },
  "language_info": {
   "codemirror_mode": {
    "name": "ipython",
    "version": 2
   },
   "file_extension": ".py",
   "mimetype": "text/x-python",
   "name": "python",
   "nbconvert_exporter": "python",
   "pygments_lexer": "ipython2",
   "version": "2.7.6"
  }
 },
 "nbformat": 4,
 "nbformat_minor": 0
}