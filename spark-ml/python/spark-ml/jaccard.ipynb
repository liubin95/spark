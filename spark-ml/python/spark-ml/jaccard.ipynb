{
 "cells": [
  {
   "cell_type": "code",
   "execution_count": 2,
   "outputs": [
    {
     "data": {
      "text/plain": "       itemA  itemB  itemC  itemD  itemE\nuser1      1      0      1      1      0\nuser2      1      0      0      1      1\nuser3      1      0      1      0      0\nuser4      0      1      0      1      1\nuser5      1      1      1      0      1",
      "text/html": "<div>\n<style scoped>\n    .dataframe tbody tr th:only-of-type {\n        vertical-align: middle;\n    }\n\n    .dataframe tbody tr th {\n        vertical-align: top;\n    }\n\n    .dataframe thead th {\n        text-align: right;\n    }\n</style>\n<table border=\"1\" class=\"dataframe\">\n  <thead>\n    <tr style=\"text-align: right;\">\n      <th></th>\n      <th>itemA</th>\n      <th>itemB</th>\n      <th>itemC</th>\n      <th>itemD</th>\n      <th>itemE</th>\n    </tr>\n  </thead>\n  <tbody>\n    <tr>\n      <th>user1</th>\n      <td>1</td>\n      <td>0</td>\n      <td>1</td>\n      <td>1</td>\n      <td>0</td>\n    </tr>\n    <tr>\n      <th>user2</th>\n      <td>1</td>\n      <td>0</td>\n      <td>0</td>\n      <td>1</td>\n      <td>1</td>\n    </tr>\n    <tr>\n      <th>user3</th>\n      <td>1</td>\n      <td>0</td>\n      <td>1</td>\n      <td>0</td>\n      <td>0</td>\n    </tr>\n    <tr>\n      <th>user4</th>\n      <td>0</td>\n      <td>1</td>\n      <td>0</td>\n      <td>1</td>\n      <td>1</td>\n    </tr>\n    <tr>\n      <th>user5</th>\n      <td>1</td>\n      <td>1</td>\n      <td>1</td>\n      <td>0</td>\n      <td>1</td>\n    </tr>\n  </tbody>\n</table>\n</div>"
     },
     "execution_count": 2,
     "metadata": {},
     "output_type": "execute_result"
    }
   ],
   "source": [
    "import pandas as pd\n",
    "# 准备矩阵数据\n",
    "users = [\"user1\", \"user2\", \"user3\", \"user4\", \"user5\"]\n",
    "items = [\"itemA\", \"itemB\", \"itemC\", \"itemD\", \"itemE\"]\n",
    "# 隐性数据 0未购买，1已经购买\n",
    "data_set = [\n",
    "    [1, 0, 1, 1, 0],\n",
    "    [1, 0, 0, 1, 1],\n",
    "    [1, 0, 1, 0, 0],\n",
    "    [0, 1, 0, 1, 1],\n",
    "    [1, 1, 1, 0, 1]\n",
    "]\n",
    "df = pd.DataFrame(data_set, columns=items, index=users)\n",
    "df"
   ],
   "metadata": {
    "collapsed": false,
    "pycharm": {
     "name": "#%%\n"
    }
   }
  },
  {
   "cell_type": "markdown",
   "source": [
    "##### 杰卡德相似度\n",
    "\n",
    "> 适用于隐性数据\n",
    " $$\n",
    " J(A,B) =\\frac{A\\cap B}{A\\cup B}\n",
    " $$\n",
    " - 杰卡德距离 = 1-杰卡德相似度"
   ],
   "metadata": {
    "collapsed": false,
    "pycharm": {
     "name": "#%% md\n"
    }
   }
  },
  {
   "cell_type": "code",
   "execution_count": 3,
   "outputs": [
    {
     "data": {
      "text/plain": "0.2"
     },
     "execution_count": 3,
     "metadata": {},
     "output_type": "execute_result"
    }
   ],
   "source": [
    "# 计算itemA 和 itemB 的杰卡德相似度\n",
    "from sklearn.metrics import jaccard_score\n",
    "\n",
    "jaccard_score(df[\"itemA\"], df[\"itemB\"])"
   ],
   "metadata": {
    "collapsed": false,
    "pycharm": {
     "name": "#%%\n"
    }
   }
  },
  {
   "cell_type": "code",
   "source": [
    " # 计算所有用户之间的相似度\n",
    "from sklearn.metrics import pairwise_distances\n",
    "\n",
    "# pairwise_distances 计算矩阵的杰卡德距离\n",
    "user_similar = 1 - pairwise_distances(df.values, metric=\"jaccard\")\n",
    "user_similar = pd.DataFrame(user_similar, columns=users, index=users)\n",
    "user_similar"
   ],
   "metadata": {
    "collapsed": false,
    "pycharm": {
     "name": "#%%\n"
    }
   },
   "execution_count": 10,
   "outputs": [
    {
     "name": "stderr",
     "output_type": "stream",
     "text": [
      "D:\\opt\\conda\\lib\\site-packages\\sklearn\\metrics\\pairwise.py:1776: DataConversionWarning: Data was converted to boolean for metric jaccard\n",
      "  warnings.warn(msg, DataConversionWarning)\n"
     ]
    },
    {
     "data": {
      "text/plain": "          user1  user2     user3  user4  user5\nuser1  1.000000   0.50  0.666667    0.2    0.4\nuser2  0.500000   1.00  0.250000    0.5    0.4\nuser3  0.666667   0.25  1.000000    0.0    0.5\nuser4  0.200000   0.50  0.000000    1.0    0.4\nuser5  0.400000   0.40  0.500000    0.4    1.0",
      "text/html": "<div>\n<style scoped>\n    .dataframe tbody tr th:only-of-type {\n        vertical-align: middle;\n    }\n\n    .dataframe tbody tr th {\n        vertical-align: top;\n    }\n\n    .dataframe thead th {\n        text-align: right;\n    }\n</style>\n<table border=\"1\" class=\"dataframe\">\n  <thead>\n    <tr style=\"text-align: right;\">\n      <th></th>\n      <th>user1</th>\n      <th>user2</th>\n      <th>user3</th>\n      <th>user4</th>\n      <th>user5</th>\n    </tr>\n  </thead>\n  <tbody>\n    <tr>\n      <th>user1</th>\n      <td>1.000000</td>\n      <td>0.50</td>\n      <td>0.666667</td>\n      <td>0.2</td>\n      <td>0.4</td>\n    </tr>\n    <tr>\n      <th>user2</th>\n      <td>0.500000</td>\n      <td>1.00</td>\n      <td>0.250000</td>\n      <td>0.5</td>\n      <td>0.4</td>\n    </tr>\n    <tr>\n      <th>user3</th>\n      <td>0.666667</td>\n      <td>0.25</td>\n      <td>1.000000</td>\n      <td>0.0</td>\n      <td>0.5</td>\n    </tr>\n    <tr>\n      <th>user4</th>\n      <td>0.200000</td>\n      <td>0.50</td>\n      <td>0.000000</td>\n      <td>1.0</td>\n      <td>0.4</td>\n    </tr>\n    <tr>\n      <th>user5</th>\n      <td>0.400000</td>\n      <td>0.40</td>\n      <td>0.500000</td>\n      <td>0.4</td>\n      <td>1.0</td>\n    </tr>\n  </tbody>\n</table>\n</div>"
     },
     "execution_count": 10,
     "metadata": {},
     "output_type": "execute_result"
    }
   ]
  },
  {
   "cell_type": "code",
   "execution_count": 9,
   "outputs": [
    {
     "name": "stdout",
     "output_type": "stream",
     "text": [
      "       itemA     itemB  itemC  itemD     itemE\n",
      "itemA   1.00  0.200000   0.75   0.40  0.400000\n",
      "itemB   0.20  1.000000   0.25   0.25  0.666667\n",
      "itemC   0.75  0.250000   1.00   0.20  0.200000\n",
      "itemD   0.40  0.250000   0.20   1.00  0.500000\n",
      "itemE   0.40  0.666667   0.20   0.50  1.000000\n"
     ]
    },
    {
     "name": "stderr",
     "output_type": "stream",
     "text": [
      "D:\\opt\\conda\\lib\\site-packages\\sklearn\\metrics\\pairwise.py:1776: DataConversionWarning: Data was converted to boolean for metric jaccard\n",
      "  warnings.warn(msg, DataConversionWarning)\n"
     ]
    }
   ],
   "source": [
    "# 计算所有内容之间的相似度\n",
    "item_similar = 1 - pairwise_distances(df.T.values, metric=\"jaccard\")\n",
    "item_similar = pd.DataFrame(item_similar, columns=items, index=items)\n",
    "item_similar"
   ],
   "metadata": {
    "collapsed": false,
    "pycharm": {
     "name": "#%%\n"
    }
   }
  }
 ],
 "metadata": {
  "kernelspec": {
   "display_name": "Python 3",
   "language": "python",
   "name": "python3"
  },
  "language_info": {
   "codemirror_mode": {
    "name": "ipython",
    "version": 2
   },
   "file_extension": ".py",
   "mimetype": "text/x-python",
   "name": "python",
   "nbconvert_exporter": "python",
   "pygments_lexer": "ipython2",
   "version": "2.7.6"
  }
 },
 "nbformat": 4,
 "nbformat_minor": 0
}