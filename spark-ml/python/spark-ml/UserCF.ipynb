{
 "cells": [
  {
   "cell_type": "code",
   "execution_count": 85,
   "metadata": {
    "collapsed": true
   },
   "outputs": [
    {
     "data": {
      "text/plain": "        userId  movieId  rating\n0            1        1     4.0\n1            1        3     4.0\n2            1        6     4.0\n3            1       47     5.0\n4            1       50     5.0\n...        ...      ...     ...\n100831     610   166534     4.0\n100832     610   168248     5.0\n100833     610   168250     5.0\n100834     610   168252     5.0\n100835     610   170875     3.0\n\n[100836 rows x 3 columns]",
      "text/html": "<div>\n<style scoped>\n    .dataframe tbody tr th:only-of-type {\n        vertical-align: middle;\n    }\n\n    .dataframe tbody tr th {\n        vertical-align: top;\n    }\n\n    .dataframe thead th {\n        text-align: right;\n    }\n</style>\n<table border=\"1\" class=\"dataframe\">\n  <thead>\n    <tr style=\"text-align: right;\">\n      <th></th>\n      <th>userId</th>\n      <th>movieId</th>\n      <th>rating</th>\n    </tr>\n  </thead>\n  <tbody>\n    <tr>\n      <th>0</th>\n      <td>1</td>\n      <td>1</td>\n      <td>4.0</td>\n    </tr>\n    <tr>\n      <th>1</th>\n      <td>1</td>\n      <td>3</td>\n      <td>4.0</td>\n    </tr>\n    <tr>\n      <th>2</th>\n      <td>1</td>\n      <td>6</td>\n      <td>4.0</td>\n    </tr>\n    <tr>\n      <th>3</th>\n      <td>1</td>\n      <td>47</td>\n      <td>5.0</td>\n    </tr>\n    <tr>\n      <th>4</th>\n      <td>1</td>\n      <td>50</td>\n      <td>5.0</td>\n    </tr>\n    <tr>\n      <th>...</th>\n      <td>...</td>\n      <td>...</td>\n      <td>...</td>\n    </tr>\n    <tr>\n      <th>100831</th>\n      <td>610</td>\n      <td>166534</td>\n      <td>4.0</td>\n    </tr>\n    <tr>\n      <th>100832</th>\n      <td>610</td>\n      <td>168248</td>\n      <td>5.0</td>\n    </tr>\n    <tr>\n      <th>100833</th>\n      <td>610</td>\n      <td>168250</td>\n      <td>5.0</td>\n    </tr>\n    <tr>\n      <th>100834</th>\n      <td>610</td>\n      <td>168252</td>\n      <td>5.0</td>\n    </tr>\n    <tr>\n      <th>100835</th>\n      <td>610</td>\n      <td>170875</td>\n      <td>3.0</td>\n    </tr>\n  </tbody>\n</table>\n<p>100836 rows × 3 columns</p>\n</div>"
     },
     "execution_count": 85,
     "metadata": {},
     "output_type": "execute_result"
    }
   ],
   "source": [
    "import numpy as np\n",
    "import pandas as pd\n",
    "\n",
    "# 设置要加载的数据字段的类型\n",
    "data_type = {\"userId\": np.int32, \"movieId\": np.int32, \"rating\": np.float32}\n",
    "# 加载数据\n",
    "rating_pd = pd.read_csv(filepath_or_buffer=\"../../../input/csv/ratings.csv\", dtype=data_type, usecols=range(3))\n",
    "rating_pd"
   ]
  },
  {
   "cell_type": "code",
   "execution_count": 86,
   "outputs": [
    {
     "data": {
      "text/plain": "movieId  1       2       3       4       5       6       7       8       \\\nuserId                                                                    \n1           4.0     NaN     4.0     NaN     NaN     4.0     NaN     NaN   \n2           NaN     NaN     NaN     NaN     NaN     NaN     NaN     NaN   \n3           NaN     NaN     NaN     NaN     NaN     NaN     NaN     NaN   \n4           NaN     NaN     NaN     NaN     NaN     NaN     NaN     NaN   \n5           4.0     NaN     NaN     NaN     NaN     NaN     NaN     NaN   \n...         ...     ...     ...     ...     ...     ...     ...     ...   \n606         2.5     NaN     NaN     NaN     NaN     NaN     2.5     NaN   \n607         4.0     NaN     NaN     NaN     NaN     NaN     NaN     NaN   \n608         2.5     2.0     2.0     NaN     NaN     NaN     NaN     NaN   \n609         3.0     NaN     NaN     NaN     NaN     NaN     NaN     NaN   \n610         5.0     NaN     NaN     NaN     NaN     5.0     NaN     NaN   \n\nmovieId  9       10      ...  193565  193567  193571  193573  193579  193581  \\\nuserId                   ...                                                   \n1           NaN     NaN  ...     NaN     NaN     NaN     NaN     NaN     NaN   \n2           NaN     NaN  ...     NaN     NaN     NaN     NaN     NaN     NaN   \n3           NaN     NaN  ...     NaN     NaN     NaN     NaN     NaN     NaN   \n4           NaN     NaN  ...     NaN     NaN     NaN     NaN     NaN     NaN   \n5           NaN     NaN  ...     NaN     NaN     NaN     NaN     NaN     NaN   \n...         ...     ...  ...     ...     ...     ...     ...     ...     ...   \n606         NaN     NaN  ...     NaN     NaN     NaN     NaN     NaN     NaN   \n607         NaN     NaN  ...     NaN     NaN     NaN     NaN     NaN     NaN   \n608         NaN     4.0  ...     NaN     NaN     NaN     NaN     NaN     NaN   \n609         NaN     4.0  ...     NaN     NaN     NaN     NaN     NaN     NaN   \n610         NaN     NaN  ...     NaN     NaN     NaN     NaN     NaN     NaN   \n\nmovieId  193583  193585  193587  193609  \nuserId                                   \n1           NaN     NaN     NaN     NaN  \n2           NaN     NaN     NaN     NaN  \n3           NaN     NaN     NaN     NaN  \n4           NaN     NaN     NaN     NaN  \n5           NaN     NaN     NaN     NaN  \n...         ...     ...     ...     ...  \n606         NaN     NaN     NaN     NaN  \n607         NaN     NaN     NaN     NaN  \n608         NaN     NaN     NaN     NaN  \n609         NaN     NaN     NaN     NaN  \n610         NaN     NaN     NaN     NaN  \n\n[610 rows x 9724 columns]",
      "text/html": "<div>\n<style scoped>\n    .dataframe tbody tr th:only-of-type {\n        vertical-align: middle;\n    }\n\n    .dataframe tbody tr th {\n        vertical-align: top;\n    }\n\n    .dataframe thead th {\n        text-align: right;\n    }\n</style>\n<table border=\"1\" class=\"dataframe\">\n  <thead>\n    <tr style=\"text-align: right;\">\n      <th>movieId</th>\n      <th>1</th>\n      <th>2</th>\n      <th>3</th>\n      <th>4</th>\n      <th>5</th>\n      <th>6</th>\n      <th>7</th>\n      <th>8</th>\n      <th>9</th>\n      <th>10</th>\n      <th>...</th>\n      <th>193565</th>\n      <th>193567</th>\n      <th>193571</th>\n      <th>193573</th>\n      <th>193579</th>\n      <th>193581</th>\n      <th>193583</th>\n      <th>193585</th>\n      <th>193587</th>\n      <th>193609</th>\n    </tr>\n    <tr>\n      <th>userId</th>\n      <th></th>\n      <th></th>\n      <th></th>\n      <th></th>\n      <th></th>\n      <th></th>\n      <th></th>\n      <th></th>\n      <th></th>\n      <th></th>\n      <th></th>\n      <th></th>\n      <th></th>\n      <th></th>\n      <th></th>\n      <th></th>\n      <th></th>\n      <th></th>\n      <th></th>\n      <th></th>\n      <th></th>\n    </tr>\n  </thead>\n  <tbody>\n    <tr>\n      <th>1</th>\n      <td>4.0</td>\n      <td>NaN</td>\n      <td>4.0</td>\n      <td>NaN</td>\n      <td>NaN</td>\n      <td>4.0</td>\n      <td>NaN</td>\n      <td>NaN</td>\n      <td>NaN</td>\n      <td>NaN</td>\n      <td>...</td>\n      <td>NaN</td>\n      <td>NaN</td>\n      <td>NaN</td>\n      <td>NaN</td>\n      <td>NaN</td>\n      <td>NaN</td>\n      <td>NaN</td>\n      <td>NaN</td>\n      <td>NaN</td>\n      <td>NaN</td>\n    </tr>\n    <tr>\n      <th>2</th>\n      <td>NaN</td>\n      <td>NaN</td>\n      <td>NaN</td>\n      <td>NaN</td>\n      <td>NaN</td>\n      <td>NaN</td>\n      <td>NaN</td>\n      <td>NaN</td>\n      <td>NaN</td>\n      <td>NaN</td>\n      <td>...</td>\n      <td>NaN</td>\n      <td>NaN</td>\n      <td>NaN</td>\n      <td>NaN</td>\n      <td>NaN</td>\n      <td>NaN</td>\n      <td>NaN</td>\n      <td>NaN</td>\n      <td>NaN</td>\n      <td>NaN</td>\n    </tr>\n    <tr>\n      <th>3</th>\n      <td>NaN</td>\n      <td>NaN</td>\n      <td>NaN</td>\n      <td>NaN</td>\n      <td>NaN</td>\n      <td>NaN</td>\n      <td>NaN</td>\n      <td>NaN</td>\n      <td>NaN</td>\n      <td>NaN</td>\n      <td>...</td>\n      <td>NaN</td>\n      <td>NaN</td>\n      <td>NaN</td>\n      <td>NaN</td>\n      <td>NaN</td>\n      <td>NaN</td>\n      <td>NaN</td>\n      <td>NaN</td>\n      <td>NaN</td>\n      <td>NaN</td>\n    </tr>\n    <tr>\n      <th>4</th>\n      <td>NaN</td>\n      <td>NaN</td>\n      <td>NaN</td>\n      <td>NaN</td>\n      <td>NaN</td>\n      <td>NaN</td>\n      <td>NaN</td>\n      <td>NaN</td>\n      <td>NaN</td>\n      <td>NaN</td>\n      <td>...</td>\n      <td>NaN</td>\n      <td>NaN</td>\n      <td>NaN</td>\n      <td>NaN</td>\n      <td>NaN</td>\n      <td>NaN</td>\n      <td>NaN</td>\n      <td>NaN</td>\n      <td>NaN</td>\n      <td>NaN</td>\n    </tr>\n    <tr>\n      <th>5</th>\n      <td>4.0</td>\n      <td>NaN</td>\n      <td>NaN</td>\n      <td>NaN</td>\n      <td>NaN</td>\n      <td>NaN</td>\n      <td>NaN</td>\n      <td>NaN</td>\n      <td>NaN</td>\n      <td>NaN</td>\n      <td>...</td>\n      <td>NaN</td>\n      <td>NaN</td>\n      <td>NaN</td>\n      <td>NaN</td>\n      <td>NaN</td>\n      <td>NaN</td>\n      <td>NaN</td>\n      <td>NaN</td>\n      <td>NaN</td>\n      <td>NaN</td>\n    </tr>\n    <tr>\n      <th>...</th>\n      <td>...</td>\n      <td>...</td>\n      <td>...</td>\n      <td>...</td>\n      <td>...</td>\n      <td>...</td>\n      <td>...</td>\n      <td>...</td>\n      <td>...</td>\n      <td>...</td>\n      <td>...</td>\n      <td>...</td>\n      <td>...</td>\n      <td>...</td>\n      <td>...</td>\n      <td>...</td>\n      <td>...</td>\n      <td>...</td>\n      <td>...</td>\n      <td>...</td>\n      <td>...</td>\n    </tr>\n    <tr>\n      <th>606</th>\n      <td>2.5</td>\n      <td>NaN</td>\n      <td>NaN</td>\n      <td>NaN</td>\n      <td>NaN</td>\n      <td>NaN</td>\n      <td>2.5</td>\n      <td>NaN</td>\n      <td>NaN</td>\n      <td>NaN</td>\n      <td>...</td>\n      <td>NaN</td>\n      <td>NaN</td>\n      <td>NaN</td>\n      <td>NaN</td>\n      <td>NaN</td>\n      <td>NaN</td>\n      <td>NaN</td>\n      <td>NaN</td>\n      <td>NaN</td>\n      <td>NaN</td>\n    </tr>\n    <tr>\n      <th>607</th>\n      <td>4.0</td>\n      <td>NaN</td>\n      <td>NaN</td>\n      <td>NaN</td>\n      <td>NaN</td>\n      <td>NaN</td>\n      <td>NaN</td>\n      <td>NaN</td>\n      <td>NaN</td>\n      <td>NaN</td>\n      <td>...</td>\n      <td>NaN</td>\n      <td>NaN</td>\n      <td>NaN</td>\n      <td>NaN</td>\n      <td>NaN</td>\n      <td>NaN</td>\n      <td>NaN</td>\n      <td>NaN</td>\n      <td>NaN</td>\n      <td>NaN</td>\n    </tr>\n    <tr>\n      <th>608</th>\n      <td>2.5</td>\n      <td>2.0</td>\n      <td>2.0</td>\n      <td>NaN</td>\n      <td>NaN</td>\n      <td>NaN</td>\n      <td>NaN</td>\n      <td>NaN</td>\n      <td>NaN</td>\n      <td>4.0</td>\n      <td>...</td>\n      <td>NaN</td>\n      <td>NaN</td>\n      <td>NaN</td>\n      <td>NaN</td>\n      <td>NaN</td>\n      <td>NaN</td>\n      <td>NaN</td>\n      <td>NaN</td>\n      <td>NaN</td>\n      <td>NaN</td>\n    </tr>\n    <tr>\n      <th>609</th>\n      <td>3.0</td>\n      <td>NaN</td>\n      <td>NaN</td>\n      <td>NaN</td>\n      <td>NaN</td>\n      <td>NaN</td>\n      <td>NaN</td>\n      <td>NaN</td>\n      <td>NaN</td>\n      <td>4.0</td>\n      <td>...</td>\n      <td>NaN</td>\n      <td>NaN</td>\n      <td>NaN</td>\n      <td>NaN</td>\n      <td>NaN</td>\n      <td>NaN</td>\n      <td>NaN</td>\n      <td>NaN</td>\n      <td>NaN</td>\n      <td>NaN</td>\n    </tr>\n    <tr>\n      <th>610</th>\n      <td>5.0</td>\n      <td>NaN</td>\n      <td>NaN</td>\n      <td>NaN</td>\n      <td>NaN</td>\n      <td>5.0</td>\n      <td>NaN</td>\n      <td>NaN</td>\n      <td>NaN</td>\n      <td>NaN</td>\n      <td>...</td>\n      <td>NaN</td>\n      <td>NaN</td>\n      <td>NaN</td>\n      <td>NaN</td>\n      <td>NaN</td>\n      <td>NaN</td>\n      <td>NaN</td>\n      <td>NaN</td>\n      <td>NaN</td>\n      <td>NaN</td>\n    </tr>\n  </tbody>\n</table>\n<p>610 rows × 9724 columns</p>\n</div>"
     },
     "execution_count": 86,
     "metadata": {},
     "output_type": "execute_result"
    }
   ],
   "source": [
    "# 透视 从 表格 转化 到UI矩阵\n",
    "# userId 和 movieId的关系\n",
    "rating_matrix = rating_pd.pivot_table(index=[\"userId\"], columns=[\"movieId\"], values=\"rating\")\n",
    "# 稀疏矩阵\n",
    "rating_matrix"
   ],
   "metadata": {
    "collapsed": false,
    "pycharm": {
     "name": "#%%\n"
    }
   }
  },
  {
   "cell_type": "code",
   "execution_count": 87,
   "outputs": [
    {
     "data": {
      "text/plain": "userId       1         2         3         4         5         6         7    \\\nuserId                                                                         \n1       1.000000       NaN  0.079819  0.207983  0.268749 -0.291636 -0.118773   \n2            NaN  1.000000       NaN       NaN       NaN       NaN -0.991241   \n3       0.079819       NaN  1.000000       NaN       NaN       NaN       NaN   \n4       0.207983       NaN       NaN  1.000000 -0.336525  0.148498  0.542861   \n5       0.268749       NaN       NaN -0.336525  1.000000  0.043166  0.158114   \n...          ...       ...       ...       ...       ...       ...       ...   \n606     0.066378  0.583333 -0.791334  0.144603  0.244321 -0.049192  0.137771   \n607     0.174557       NaN -0.333333  0.116518  0.231080  0.255639  0.402792   \n608     0.268070 -0.125000 -0.395092 -0.170501 -0.020546  0.125428  0.008081   \n609    -0.175412       NaN       NaN -0.277350  0.384111  0.193649  0.420288   \n610    -0.032086  0.623288  0.569562 -0.043786  0.040582  0.115580  0.341233   \n\nuserId       8         9         10   ...           601           602  \\\nuserId                                ...                               \n1       0.469668  0.918559 -0.037987  ...  9.157371e-02 -1.597727e-16   \n2            NaN       NaN  0.037796  ... -3.873468e-01           NaN   \n3            NaN       NaN       NaN  ...           NaN           NaN   \n4       0.117851       NaN  0.485794  ... -2.221127e-01  3.966413e-01   \n5       0.028347       NaN -0.777714  ...  2.719480e-16  1.533034e-01   \n...          ...       ...       ...  ...           ...           ...   \n606     0.253582  0.572700 -0.382955  ...  2.904896e-01  1.406134e-01   \n607     0.251280       NaN -0.241121  ...  6.982411e-01  2.172105e-01   \n608     0.434423  0.336625 -0.571043  ...  4.739665e-01  2.976461e-01   \n609     0.141860       NaN       NaN  ...  1.000000e+00  1.885115e-01   \n610     0.167931  0.615638 -0.205081  ...  7.024510e-03  4.926267e-02   \n\nuserId       603       604       605       606       607       608       609  \\\nuserId                                                                         \n1      -0.061503 -0.407556 -0.164871  0.066378  0.174557  0.268070 -0.175412   \n2      -1.000000       NaN       NaN  0.583333       NaN -0.125000       NaN   \n3       0.433200       NaN       NaN -0.791334 -0.333333 -0.395092       NaN   \n4       0.090090 -0.080296  0.400124  0.144603  0.116518 -0.170501 -0.277350   \n5       0.234743  0.067791 -0.364156  0.244321  0.231080 -0.020546  0.384111   \n...          ...       ...       ...       ...       ...       ...       ...   \n606     0.318473  0.682949  0.167062  1.000000  0.114191  0.240842  0.533002   \n607     0.192787  0.035806 -0.299641  0.114191  1.000000  0.200814  0.190117   \n608     0.086423  0.053986 -0.075673  0.240842  0.200814  1.000000  0.488929   \n609     0.343303  0.641624 -0.550000  0.533002  0.190117  0.488929  1.000000   \n610     0.270908  0.310611  0.462274  0.389185  0.106605  0.147606 -0.521773   \n\nuserId       610  \nuserId            \n1      -0.032086  \n2       0.623288  \n3       0.569562  \n4      -0.043786  \n5       0.040582  \n...          ...  \n606     0.389185  \n607     0.106605  \n608     0.147606  \n609    -0.521773  \n610     1.000000  \n\n[610 rows x 610 columns]",
      "text/html": "<div>\n<style scoped>\n    .dataframe tbody tr th:only-of-type {\n        vertical-align: middle;\n    }\n\n    .dataframe tbody tr th {\n        vertical-align: top;\n    }\n\n    .dataframe thead th {\n        text-align: right;\n    }\n</style>\n<table border=\"1\" class=\"dataframe\">\n  <thead>\n    <tr style=\"text-align: right;\">\n      <th>userId</th>\n      <th>1</th>\n      <th>2</th>\n      <th>3</th>\n      <th>4</th>\n      <th>5</th>\n      <th>6</th>\n      <th>7</th>\n      <th>8</th>\n      <th>9</th>\n      <th>10</th>\n      <th>...</th>\n      <th>601</th>\n      <th>602</th>\n      <th>603</th>\n      <th>604</th>\n      <th>605</th>\n      <th>606</th>\n      <th>607</th>\n      <th>608</th>\n      <th>609</th>\n      <th>610</th>\n    </tr>\n    <tr>\n      <th>userId</th>\n      <th></th>\n      <th></th>\n      <th></th>\n      <th></th>\n      <th></th>\n      <th></th>\n      <th></th>\n      <th></th>\n      <th></th>\n      <th></th>\n      <th></th>\n      <th></th>\n      <th></th>\n      <th></th>\n      <th></th>\n      <th></th>\n      <th></th>\n      <th></th>\n      <th></th>\n      <th></th>\n      <th></th>\n    </tr>\n  </thead>\n  <tbody>\n    <tr>\n      <th>1</th>\n      <td>1.000000</td>\n      <td>NaN</td>\n      <td>0.079819</td>\n      <td>0.207983</td>\n      <td>0.268749</td>\n      <td>-0.291636</td>\n      <td>-0.118773</td>\n      <td>0.469668</td>\n      <td>0.918559</td>\n      <td>-0.037987</td>\n      <td>...</td>\n      <td>9.157371e-02</td>\n      <td>-1.597727e-16</td>\n      <td>-0.061503</td>\n      <td>-0.407556</td>\n      <td>-0.164871</td>\n      <td>0.066378</td>\n      <td>0.174557</td>\n      <td>0.268070</td>\n      <td>-0.175412</td>\n      <td>-0.032086</td>\n    </tr>\n    <tr>\n      <th>2</th>\n      <td>NaN</td>\n      <td>1.000000</td>\n      <td>NaN</td>\n      <td>NaN</td>\n      <td>NaN</td>\n      <td>NaN</td>\n      <td>-0.991241</td>\n      <td>NaN</td>\n      <td>NaN</td>\n      <td>0.037796</td>\n      <td>...</td>\n      <td>-3.873468e-01</td>\n      <td>NaN</td>\n      <td>-1.000000</td>\n      <td>NaN</td>\n      <td>NaN</td>\n      <td>0.583333</td>\n      <td>NaN</td>\n      <td>-0.125000</td>\n      <td>NaN</td>\n      <td>0.623288</td>\n    </tr>\n    <tr>\n      <th>3</th>\n      <td>0.079819</td>\n      <td>NaN</td>\n      <td>1.000000</td>\n      <td>NaN</td>\n      <td>NaN</td>\n      <td>NaN</td>\n      <td>NaN</td>\n      <td>NaN</td>\n      <td>NaN</td>\n      <td>NaN</td>\n      <td>...</td>\n      <td>NaN</td>\n      <td>NaN</td>\n      <td>0.433200</td>\n      <td>NaN</td>\n      <td>NaN</td>\n      <td>-0.791334</td>\n      <td>-0.333333</td>\n      <td>-0.395092</td>\n      <td>NaN</td>\n      <td>0.569562</td>\n    </tr>\n    <tr>\n      <th>4</th>\n      <td>0.207983</td>\n      <td>NaN</td>\n      <td>NaN</td>\n      <td>1.000000</td>\n      <td>-0.336525</td>\n      <td>0.148498</td>\n      <td>0.542861</td>\n      <td>0.117851</td>\n      <td>NaN</td>\n      <td>0.485794</td>\n      <td>...</td>\n      <td>-2.221127e-01</td>\n      <td>3.966413e-01</td>\n      <td>0.090090</td>\n      <td>-0.080296</td>\n      <td>0.400124</td>\n      <td>0.144603</td>\n      <td>0.116518</td>\n      <td>-0.170501</td>\n      <td>-0.277350</td>\n      <td>-0.043786</td>\n    </tr>\n    <tr>\n      <th>5</th>\n      <td>0.268749</td>\n      <td>NaN</td>\n      <td>NaN</td>\n      <td>-0.336525</td>\n      <td>1.000000</td>\n      <td>0.043166</td>\n      <td>0.158114</td>\n      <td>0.028347</td>\n      <td>NaN</td>\n      <td>-0.777714</td>\n      <td>...</td>\n      <td>2.719480e-16</td>\n      <td>1.533034e-01</td>\n      <td>0.234743</td>\n      <td>0.067791</td>\n      <td>-0.364156</td>\n      <td>0.244321</td>\n      <td>0.231080</td>\n      <td>-0.020546</td>\n      <td>0.384111</td>\n      <td>0.040582</td>\n    </tr>\n    <tr>\n      <th>...</th>\n      <td>...</td>\n      <td>...</td>\n      <td>...</td>\n      <td>...</td>\n      <td>...</td>\n      <td>...</td>\n      <td>...</td>\n      <td>...</td>\n      <td>...</td>\n      <td>...</td>\n      <td>...</td>\n      <td>...</td>\n      <td>...</td>\n      <td>...</td>\n      <td>...</td>\n      <td>...</td>\n      <td>...</td>\n      <td>...</td>\n      <td>...</td>\n      <td>...</td>\n      <td>...</td>\n    </tr>\n    <tr>\n      <th>606</th>\n      <td>0.066378</td>\n      <td>0.583333</td>\n      <td>-0.791334</td>\n      <td>0.144603</td>\n      <td>0.244321</td>\n      <td>-0.049192</td>\n      <td>0.137771</td>\n      <td>0.253582</td>\n      <td>0.572700</td>\n      <td>-0.382955</td>\n      <td>...</td>\n      <td>2.904896e-01</td>\n      <td>1.406134e-01</td>\n      <td>0.318473</td>\n      <td>0.682949</td>\n      <td>0.167062</td>\n      <td>1.000000</td>\n      <td>0.114191</td>\n      <td>0.240842</td>\n      <td>0.533002</td>\n      <td>0.389185</td>\n    </tr>\n    <tr>\n      <th>607</th>\n      <td>0.174557</td>\n      <td>NaN</td>\n      <td>-0.333333</td>\n      <td>0.116518</td>\n      <td>0.231080</td>\n      <td>0.255639</td>\n      <td>0.402792</td>\n      <td>0.251280</td>\n      <td>NaN</td>\n      <td>-0.241121</td>\n      <td>...</td>\n      <td>6.982411e-01</td>\n      <td>2.172105e-01</td>\n      <td>0.192787</td>\n      <td>0.035806</td>\n      <td>-0.299641</td>\n      <td>0.114191</td>\n      <td>1.000000</td>\n      <td>0.200814</td>\n      <td>0.190117</td>\n      <td>0.106605</td>\n    </tr>\n    <tr>\n      <th>608</th>\n      <td>0.268070</td>\n      <td>-0.125000</td>\n      <td>-0.395092</td>\n      <td>-0.170501</td>\n      <td>-0.020546</td>\n      <td>0.125428</td>\n      <td>0.008081</td>\n      <td>0.434423</td>\n      <td>0.336625</td>\n      <td>-0.571043</td>\n      <td>...</td>\n      <td>4.739665e-01</td>\n      <td>2.976461e-01</td>\n      <td>0.086423</td>\n      <td>0.053986</td>\n      <td>-0.075673</td>\n      <td>0.240842</td>\n      <td>0.200814</td>\n      <td>1.000000</td>\n      <td>0.488929</td>\n      <td>0.147606</td>\n    </tr>\n    <tr>\n      <th>609</th>\n      <td>-0.175412</td>\n      <td>NaN</td>\n      <td>NaN</td>\n      <td>-0.277350</td>\n      <td>0.384111</td>\n      <td>0.193649</td>\n      <td>0.420288</td>\n      <td>0.141860</td>\n      <td>NaN</td>\n      <td>NaN</td>\n      <td>...</td>\n      <td>1.000000e+00</td>\n      <td>1.885115e-01</td>\n      <td>0.343303</td>\n      <td>0.641624</td>\n      <td>-0.550000</td>\n      <td>0.533002</td>\n      <td>0.190117</td>\n      <td>0.488929</td>\n      <td>1.000000</td>\n      <td>-0.521773</td>\n    </tr>\n    <tr>\n      <th>610</th>\n      <td>-0.032086</td>\n      <td>0.623288</td>\n      <td>0.569562</td>\n      <td>-0.043786</td>\n      <td>0.040582</td>\n      <td>0.115580</td>\n      <td>0.341233</td>\n      <td>0.167931</td>\n      <td>0.615638</td>\n      <td>-0.205081</td>\n      <td>...</td>\n      <td>7.024510e-03</td>\n      <td>4.926267e-02</td>\n      <td>0.270908</td>\n      <td>0.310611</td>\n      <td>0.462274</td>\n      <td>0.389185</td>\n      <td>0.106605</td>\n      <td>0.147606</td>\n      <td>-0.521773</td>\n      <td>1.000000</td>\n    </tr>\n  </tbody>\n</table>\n<p>610 rows × 610 columns</p>\n</div>"
     },
     "execution_count": 87,
     "metadata": {},
     "output_type": "execute_result"
    }
   ],
   "source": [
    "# 用户相似度矩阵\n",
    "user_similar = rating_matrix.T.corr()\n",
    "user_similar"
   ],
   "metadata": {
    "collapsed": false,
    "pycharm": {
     "name": "#%%\n"
    }
   }
  },
  {
   "cell_type": "code",
   "execution_count": 92,
   "outputs": [
    {
     "data": {
      "text/plain": "userId\n3      0.079819\n4      0.207983\n5      0.268749\n8      0.469668\n9      0.918559\n         ...   \n600    0.253649\n601    0.091574\n606    0.066378\n607    0.174557\n608    0.268070\nName: 1, Length: 383, dtype: float64"
     },
     "execution_count": 92,
     "metadata": {},
     "output_type": "execute_result"
    }
   ],
   "source": [
    "# 获取相似的user\n",
    "# 从user相似矩阵中删除自己，并且删除缺失值\n",
    "item_user = user_similar[1].drop(1).dropna()\n",
    "# 删除负相关\n",
    "item_user = item_user.where(item_user > 0).dropna()\n",
    "item_user"
   ],
   "metadata": {
    "collapsed": false,
    "pycharm": {
     "name": "#%%\n"
    }
   }
  },
  {
   "cell_type": "code",
   "execution_count": 93,
   "outputs": [
    {
     "name": "stderr",
     "output_type": "stream",
     "text": [
      "<ipython-input-93-1b418012cf53>:4: FutureWarning: Index.__and__ operating as a set operation is deprecated, in the future this will be a logical operation matching Series.__and__.  Use index.intersection(other) instead\n",
      "  ids = user_iid & item_user.index\n"
     ]
    },
    {
     "data": {
      "text/plain": "Int64Index([14, 162, 262, 600], dtype='int64', name='userId')"
     },
     "execution_count": 93,
     "metadata": {},
     "output_type": "execute_result"
    }
   ],
   "source": [
    "# 获取iid 向量，删除空，获取索引值\n",
    "user_iid = rating_matrix[4].dropna().index\n",
    "# 和用户相似度 取交集\n",
    "ids = user_iid & item_user.index\n",
    "ids"
   ],
   "metadata": {
    "collapsed": false,
    "pycharm": {
     "name": "#%%\n"
    }
   }
  },
  {
   "cell_type": "code",
   "execution_count": 94,
   "outputs": [
    {
     "data": {
      "text/plain": "userId\n14     0.229081\n162    0.708333\n262    0.231869\n600    0.253649\nName: 1, dtype: float64"
     },
     "execution_count": 94,
     "metadata": {},
     "output_type": "execute_result"
    }
   ],
   "source": [
    "# 获取到相似度的数据\n",
    "finally_item_user = item_user[list(ids)]\n",
    "finally_item_user"
   ],
   "metadata": {
    "collapsed": false,
    "pycharm": {
     "name": "#%%\n"
    }
   }
  },
  {
   "cell_type": "code",
   "execution_count": 95,
   "outputs": [
    {
     "data": {
      "text/plain": "2.4067095448510756"
     },
     "execution_count": 95,
     "metadata": {},
     "output_type": "execute_result"
    }
   ],
   "source": [
    "sum_up = 0\n",
    "sum_down = 0\n",
    "# 循环\n",
    "for uid, uid_like in finally_item_user.iteritems():\n",
    "    # 获取矩阵中的评分\n",
    "    user_all = rating_matrix[4].dropna()\n",
    "    user_all_item = user_all[uid]\n",
    "\n",
    "    sum_up += user_all_item * uid_like\n",
    "    sum_down += uid_like\n",
    "# 基于用户的相似度预测 user1 => item4\n",
    "sum_up / sum_down"
   ],
   "metadata": {
    "collapsed": false,
    "pycharm": {
     "name": "#%%\n"
    }
   }
  },
  {
   "cell_type": "markdown",
   "source": [
    "# 基于用户的协同过滤\n",
    "> 给 user1 推荐电影\n",
    "1. 读取数据\n",
    "2. 透视表\n",
    "3. 用户相似度矩阵\n",
    "4. 获取相似用户\n",
    "5. 补全【user1】评分矩阵缺失值\n",
    "   1. 缺失【item2】...\n",
    "   2. 获取【相似用户】和【评价 item2 用户】的交集\n",
    "   3. 【交集用户】对【item2】评分的【加权平均数】\n",
    "6. 排序【user1】，topN"
   ],
   "metadata": {
    "collapsed": false,
    "pycharm": {
     "name": "#%% md\n"
    }
   }
  },
  {
   "cell_type": "markdown",
   "source": [],
   "metadata": {
    "collapsed": false,
    "pycharm": {
     "name": "#%% md\n"
    }
   }
  }
 ],
 "metadata": {
  "kernelspec": {
   "display_name": "Python 3",
   "language": "python",
   "name": "python3"
  },
  "language_info": {
   "codemirror_mode": {
    "name": "ipython",
    "version": 2
   },
   "file_extension": ".py",
   "mimetype": "text/x-python",
   "name": "python",
   "nbconvert_exporter": "python",
   "pygments_lexer": "ipython2",
   "version": "2.7.6"
  }
 },
 "nbformat": 4,
 "nbformat_minor": 0
}